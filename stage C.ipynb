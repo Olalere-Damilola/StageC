{
 "cells": [
  {
   "cell_type": "code",
   "execution_count": 91,
   "metadata": {},
   "outputs": [],
   "source": [
    "import pandas as pd"
   ]
  },
  {
   "cell_type": "code",
   "execution_count": 92,
   "metadata": {},
   "outputs": [],
   "source": [
    "import numpy as np"
   ]
  },
  {
   "cell_type": "code",
   "execution_count": 100,
   "metadata": {},
   "outputs": [
    {
     "data": {
      "text/html": [
       "<div>\n",
       "<style scoped>\n",
       "    .dataframe tbody tr th:only-of-type {\n",
       "        vertical-align: middle;\n",
       "    }\n",
       "\n",
       "    .dataframe tbody tr th {\n",
       "        vertical-align: top;\n",
       "    }\n",
       "\n",
       "    .dataframe thead th {\n",
       "        text-align: right;\n",
       "    }\n",
       "</style>\n",
       "<table border=\"1\" class=\"dataframe\">\n",
       "  <thead>\n",
       "    <tr style=\"text-align: right;\">\n",
       "      <th></th>\n",
       "      <th>tau1</th>\n",
       "      <th>tau2</th>\n",
       "      <th>tau3</th>\n",
       "      <th>tau4</th>\n",
       "      <th>p1</th>\n",
       "      <th>p2</th>\n",
       "      <th>p3</th>\n",
       "      <th>p4</th>\n",
       "      <th>g1</th>\n",
       "      <th>g2</th>\n",
       "      <th>g3</th>\n",
       "      <th>g4</th>\n",
       "      <th>stab</th>\n",
       "      <th>stabf</th>\n",
       "    </tr>\n",
       "  </thead>\n",
       "  <tbody>\n",
       "    <tr>\n",
       "      <th>0</th>\n",
       "      <td>2.959060</td>\n",
       "      <td>3.079885</td>\n",
       "      <td>8.381025</td>\n",
       "      <td>9.780754</td>\n",
       "      <td>3.763085</td>\n",
       "      <td>-0.782604</td>\n",
       "      <td>-1.257395</td>\n",
       "      <td>-1.723086</td>\n",
       "      <td>0.650456</td>\n",
       "      <td>0.859578</td>\n",
       "      <td>0.887445</td>\n",
       "      <td>0.958034</td>\n",
       "      <td>0.055347</td>\n",
       "      <td>unstable</td>\n",
       "    </tr>\n",
       "    <tr>\n",
       "      <th>1</th>\n",
       "      <td>9.304097</td>\n",
       "      <td>4.902524</td>\n",
       "      <td>3.047541</td>\n",
       "      <td>1.369357</td>\n",
       "      <td>5.067812</td>\n",
       "      <td>-1.940058</td>\n",
       "      <td>-1.872742</td>\n",
       "      <td>-1.255012</td>\n",
       "      <td>0.413441</td>\n",
       "      <td>0.862414</td>\n",
       "      <td>0.562139</td>\n",
       "      <td>0.781760</td>\n",
       "      <td>-0.005957</td>\n",
       "      <td>stable</td>\n",
       "    </tr>\n",
       "    <tr>\n",
       "      <th>2</th>\n",
       "      <td>8.971707</td>\n",
       "      <td>8.848428</td>\n",
       "      <td>3.046479</td>\n",
       "      <td>1.214518</td>\n",
       "      <td>3.405158</td>\n",
       "      <td>-1.207456</td>\n",
       "      <td>-1.277210</td>\n",
       "      <td>-0.920492</td>\n",
       "      <td>0.163041</td>\n",
       "      <td>0.766689</td>\n",
       "      <td>0.839444</td>\n",
       "      <td>0.109853</td>\n",
       "      <td>0.003471</td>\n",
       "      <td>unstable</td>\n",
       "    </tr>\n",
       "    <tr>\n",
       "      <th>3</th>\n",
       "      <td>0.716415</td>\n",
       "      <td>7.669600</td>\n",
       "      <td>4.486641</td>\n",
       "      <td>2.340563</td>\n",
       "      <td>3.963791</td>\n",
       "      <td>-1.027473</td>\n",
       "      <td>-1.938944</td>\n",
       "      <td>-0.997374</td>\n",
       "      <td>0.446209</td>\n",
       "      <td>0.976744</td>\n",
       "      <td>0.929381</td>\n",
       "      <td>0.362718</td>\n",
       "      <td>0.028871</td>\n",
       "      <td>unstable</td>\n",
       "    </tr>\n",
       "    <tr>\n",
       "      <th>4</th>\n",
       "      <td>3.134112</td>\n",
       "      <td>7.608772</td>\n",
       "      <td>4.943759</td>\n",
       "      <td>9.857573</td>\n",
       "      <td>3.525811</td>\n",
       "      <td>-1.125531</td>\n",
       "      <td>-1.845975</td>\n",
       "      <td>-0.554305</td>\n",
       "      <td>0.797110</td>\n",
       "      <td>0.455450</td>\n",
       "      <td>0.656947</td>\n",
       "      <td>0.820923</td>\n",
       "      <td>0.049860</td>\n",
       "      <td>unstable</td>\n",
       "    </tr>\n",
       "  </tbody>\n",
       "</table>\n",
       "</div>"
      ],
      "text/plain": [
       "       tau1      tau2      tau3      tau4        p1        p2        p3  \\\n",
       "0  2.959060  3.079885  8.381025  9.780754  3.763085 -0.782604 -1.257395   \n",
       "1  9.304097  4.902524  3.047541  1.369357  5.067812 -1.940058 -1.872742   \n",
       "2  8.971707  8.848428  3.046479  1.214518  3.405158 -1.207456 -1.277210   \n",
       "3  0.716415  7.669600  4.486641  2.340563  3.963791 -1.027473 -1.938944   \n",
       "4  3.134112  7.608772  4.943759  9.857573  3.525811 -1.125531 -1.845975   \n",
       "\n",
       "         p4        g1        g2        g3        g4      stab     stabf  \n",
       "0 -1.723086  0.650456  0.859578  0.887445  0.958034  0.055347  unstable  \n",
       "1 -1.255012  0.413441  0.862414  0.562139  0.781760 -0.005957    stable  \n",
       "2 -0.920492  0.163041  0.766689  0.839444  0.109853  0.003471  unstable  \n",
       "3 -0.997374  0.446209  0.976744  0.929381  0.362718  0.028871  unstable  \n",
       "4 -0.554305  0.797110  0.455450  0.656947  0.820923  0.049860  unstable  "
      ]
     },
     "execution_count": 100,
     "metadata": {},
     "output_type": "execute_result"
    }
   ],
   "source": [
    "df = pd.read_csv('Data_for_UCI_named.csv')\n",
    "df.head()"
   ]
  },
  {
   "cell_type": "code",
   "execution_count": 101,
   "metadata": {},
   "outputs": [
    {
     "data": {
      "text/plain": [
       "tau1     0\n",
       "tau2     0\n",
       "tau3     0\n",
       "tau4     0\n",
       "p1       0\n",
       "p2       0\n",
       "p3       0\n",
       "p4       0\n",
       "g1       0\n",
       "g2       0\n",
       "g3       0\n",
       "g4       0\n",
       "stab     0\n",
       "stabf    0\n",
       "dtype: int64"
      ]
     },
     "execution_count": 101,
     "metadata": {},
     "output_type": "execute_result"
    }
   ],
   "source": [
    "df.isna().sum()"
   ]
  },
  {
   "cell_type": "code",
   "execution_count": 102,
   "metadata": {},
   "outputs": [
    {
     "data": {
      "text/plain": [
       "unstable    6380\n",
       "stable      3620\n",
       "Name: stabf, dtype: int64"
      ]
     },
     "execution_count": 102,
     "metadata": {},
     "output_type": "execute_result"
    }
   ],
   "source": [
    "df['stabf'].value_counts()"
   ]
  },
  {
   "cell_type": "code",
   "execution_count": 103,
   "metadata": {},
   "outputs": [
    {
     "data": {
      "text/plain": [
       "(10000, 14)"
      ]
     },
     "execution_count": 103,
     "metadata": {},
     "output_type": "execute_result"
    }
   ],
   "source": [
    "import sklearn.utils\n",
    "df = sklearn.utils.shuffle(df)\n",
    "df = df.reset_index(drop=True)\n",
    "df.shape"
   ]
  },
  {
   "cell_type": "code",
   "execution_count": 104,
   "metadata": {},
   "outputs": [
    {
     "data": {
      "text/html": [
       "<div>\n",
       "<style scoped>\n",
       "    .dataframe tbody tr th:only-of-type {\n",
       "        vertical-align: middle;\n",
       "    }\n",
       "\n",
       "    .dataframe tbody tr th {\n",
       "        vertical-align: top;\n",
       "    }\n",
       "\n",
       "    .dataframe thead th {\n",
       "        text-align: right;\n",
       "    }\n",
       "</style>\n",
       "<table border=\"1\" class=\"dataframe\">\n",
       "  <thead>\n",
       "    <tr style=\"text-align: right;\">\n",
       "      <th></th>\n",
       "      <th>tau1</th>\n",
       "      <th>tau2</th>\n",
       "      <th>tau3</th>\n",
       "      <th>tau4</th>\n",
       "      <th>p1</th>\n",
       "      <th>p2</th>\n",
       "      <th>p3</th>\n",
       "      <th>p4</th>\n",
       "      <th>g1</th>\n",
       "      <th>g2</th>\n",
       "      <th>g3</th>\n",
       "      <th>g4</th>\n",
       "      <th>stabf</th>\n",
       "    </tr>\n",
       "  </thead>\n",
       "  <tbody>\n",
       "    <tr>\n",
       "      <th>0</th>\n",
       "      <td>4.546939</td>\n",
       "      <td>7.435636</td>\n",
       "      <td>5.372937</td>\n",
       "      <td>0.786192</td>\n",
       "      <td>3.888449</td>\n",
       "      <td>-1.098100</td>\n",
       "      <td>-1.404731</td>\n",
       "      <td>-1.385618</td>\n",
       "      <td>0.759432</td>\n",
       "      <td>0.077736</td>\n",
       "      <td>0.515091</td>\n",
       "      <td>0.115727</td>\n",
       "      <td>stable</td>\n",
       "    </tr>\n",
       "    <tr>\n",
       "      <th>1</th>\n",
       "      <td>5.971135</td>\n",
       "      <td>4.768873</td>\n",
       "      <td>6.301702</td>\n",
       "      <td>8.344869</td>\n",
       "      <td>3.910617</td>\n",
       "      <td>-1.606492</td>\n",
       "      <td>-1.140191</td>\n",
       "      <td>-1.163934</td>\n",
       "      <td>0.339294</td>\n",
       "      <td>0.740430</td>\n",
       "      <td>0.605163</td>\n",
       "      <td>0.838211</td>\n",
       "      <td>unstable</td>\n",
       "    </tr>\n",
       "    <tr>\n",
       "      <th>2</th>\n",
       "      <td>9.741800</td>\n",
       "      <td>9.268688</td>\n",
       "      <td>6.675355</td>\n",
       "      <td>7.402797</td>\n",
       "      <td>2.391964</td>\n",
       "      <td>-1.025795</td>\n",
       "      <td>-0.597543</td>\n",
       "      <td>-0.768627</td>\n",
       "      <td>0.176857</td>\n",
       "      <td>0.752617</td>\n",
       "      <td>0.285300</td>\n",
       "      <td>0.487058</td>\n",
       "      <td>unstable</td>\n",
       "    </tr>\n",
       "    <tr>\n",
       "      <th>3</th>\n",
       "      <td>1.045857</td>\n",
       "      <td>6.082919</td>\n",
       "      <td>4.848205</td>\n",
       "      <td>4.142294</td>\n",
       "      <td>5.553698</td>\n",
       "      <td>-1.958687</td>\n",
       "      <td>-1.647470</td>\n",
       "      <td>-1.947540</td>\n",
       "      <td>0.173833</td>\n",
       "      <td>0.297703</td>\n",
       "      <td>0.464839</td>\n",
       "      <td>0.613782</td>\n",
       "      <td>stable</td>\n",
       "    </tr>\n",
       "    <tr>\n",
       "      <th>4</th>\n",
       "      <td>2.591476</td>\n",
       "      <td>7.772701</td>\n",
       "      <td>9.234192</td>\n",
       "      <td>0.744068</td>\n",
       "      <td>4.995163</td>\n",
       "      <td>-1.285436</td>\n",
       "      <td>-1.867116</td>\n",
       "      <td>-1.842611</td>\n",
       "      <td>0.891623</td>\n",
       "      <td>0.133606</td>\n",
       "      <td>0.623915</td>\n",
       "      <td>0.242596</td>\n",
       "      <td>stable</td>\n",
       "    </tr>\n",
       "  </tbody>\n",
       "</table>\n",
       "</div>"
      ],
      "text/plain": [
       "       tau1      tau2      tau3      tau4        p1        p2        p3  \\\n",
       "0  4.546939  7.435636  5.372937  0.786192  3.888449 -1.098100 -1.404731   \n",
       "1  5.971135  4.768873  6.301702  8.344869  3.910617 -1.606492 -1.140191   \n",
       "2  9.741800  9.268688  6.675355  7.402797  2.391964 -1.025795 -0.597543   \n",
       "3  1.045857  6.082919  4.848205  4.142294  5.553698 -1.958687 -1.647470   \n",
       "4  2.591476  7.772701  9.234192  0.744068  4.995163 -1.285436 -1.867116   \n",
       "\n",
       "         p4        g1        g2        g3        g4     stabf  \n",
       "0 -1.385618  0.759432  0.077736  0.515091  0.115727    stable  \n",
       "1 -1.163934  0.339294  0.740430  0.605163  0.838211  unstable  \n",
       "2 -0.768627  0.176857  0.752617  0.285300  0.487058  unstable  \n",
       "3 -1.947540  0.173833  0.297703  0.464839  0.613782    stable  \n",
       "4 -1.842611  0.891623  0.133606  0.623915  0.242596    stable  "
      ]
     },
     "execution_count": 104,
     "metadata": {},
     "output_type": "execute_result"
    }
   ],
   "source": [
    "data_df = df.drop(columns=['stab'])\n",
    "data_df.head()"
   ]
  },
  {
   "cell_type": "code",
   "execution_count": 105,
   "metadata": {},
   "outputs": [],
   "source": [
    "x = data_df.drop(columns = 'stabf')\n",
    "y = data_df['stabf']"
   ]
  },
  {
   "cell_type": "code",
   "execution_count": 107,
   "metadata": {},
   "outputs": [
    {
     "data": {
      "text/plain": [
       "unstable    5112\n",
       "stable      2888\n",
       "Name: stabf, dtype: int64"
      ]
     },
     "execution_count": 107,
     "metadata": {},
     "output_type": "execute_result"
    }
   ],
   "source": [
    "from sklearn.model_selection import train_test_split\n",
    "x_train, x_test, y_train, y_test = train_test_split(x, y, test_size = 0.2, random_state = 1)\n",
    "y_train.value_counts()\n"
   ]
  },
  {
   "cell_type": "code",
   "execution_count": 127,
   "metadata": {},
   "outputs": [
    {
     "data": {
      "text/plain": [
       "stable      5112\n",
       "unstable    5112\n",
       "Name: stabf, dtype: int64"
      ]
     },
     "execution_count": 127,
     "metadata": {},
     "output_type": "execute_result"
    }
   ],
   "source": [
    "import imblearn\n",
    "from imblearn.over_sampling import SMOTE \n",
    "smote = SMOTE(random_state=1)\n",
    "x_train_balanced, y_train_balanced =smote.fit_sample(x_train, y_train) \n",
    "y_train_balanced.value_counts()"
   ]
  },
  {
   "cell_type": "code",
   "execution_count": 128,
   "metadata": {},
   "outputs": [],
   "source": [
    "from sklearn.preprocessing import StandardScaler\n",
    "scaler = StandardScaler()\n",
    "normalised_train_df = pd.DataFrame(scaler.fit_transform(x_train_balanced),columns =(x_train_balanced).columns)\n",
    "normalised_test_df = pd.DataFrame(scaler.transform(x_test),columns = x_test.columns)\n"
   ]
  },
  {
   "cell_type": "code",
   "execution_count": 129,
   "metadata": {},
   "outputs": [
    {
     "data": {
      "text/html": [
       "<div>\n",
       "<style scoped>\n",
       "    .dataframe tbody tr th:only-of-type {\n",
       "        vertical-align: middle;\n",
       "    }\n",
       "\n",
       "    .dataframe tbody tr th {\n",
       "        vertical-align: top;\n",
       "    }\n",
       "\n",
       "    .dataframe thead th {\n",
       "        text-align: right;\n",
       "    }\n",
       "</style>\n",
       "<table border=\"1\" class=\"dataframe\">\n",
       "  <thead>\n",
       "    <tr style=\"text-align: right;\">\n",
       "      <th></th>\n",
       "      <th>tau1</th>\n",
       "      <th>tau2</th>\n",
       "      <th>tau3</th>\n",
       "      <th>tau4</th>\n",
       "      <th>p1</th>\n",
       "      <th>p2</th>\n",
       "      <th>p3</th>\n",
       "      <th>p4</th>\n",
       "      <th>g1</th>\n",
       "      <th>g2</th>\n",
       "      <th>g3</th>\n",
       "      <th>g4</th>\n",
       "    </tr>\n",
       "  </thead>\n",
       "  <tbody>\n",
       "    <tr>\n",
       "      <th>0</th>\n",
       "      <td>-1.034671</td>\n",
       "      <td>1.785454</td>\n",
       "      <td>-1.597890</td>\n",
       "      <td>-1.321070</td>\n",
       "      <td>-1.046721</td>\n",
       "      <td>0.601014</td>\n",
       "      <td>1.266908</td>\n",
       "      <td>-0.052803</td>\n",
       "      <td>-0.927384</td>\n",
       "      <td>-0.500063</td>\n",
       "      <td>1.063836</td>\n",
       "      <td>-0.035703</td>\n",
       "    </tr>\n",
       "    <tr>\n",
       "      <th>1</th>\n",
       "      <td>-0.364963</td>\n",
       "      <td>-0.275372</td>\n",
       "      <td>0.147722</td>\n",
       "      <td>0.133113</td>\n",
       "      <td>-2.166375</td>\n",
       "      <td>0.591321</td>\n",
       "      <td>1.738011</td>\n",
       "      <td>1.430440</td>\n",
       "      <td>0.835339</td>\n",
       "      <td>0.354778</td>\n",
       "      <td>1.272426</td>\n",
       "      <td>-0.099635</td>\n",
       "    </tr>\n",
       "    <tr>\n",
       "      <th>2</th>\n",
       "      <td>0.521069</td>\n",
       "      <td>-1.603631</td>\n",
       "      <td>1.391362</td>\n",
       "      <td>-1.176059</td>\n",
       "      <td>-0.391306</td>\n",
       "      <td>1.305606</td>\n",
       "      <td>0.745922</td>\n",
       "      <td>-1.373830</td>\n",
       "      <td>-0.788664</td>\n",
       "      <td>-1.582383</td>\n",
       "      <td>0.763575</td>\n",
       "      <td>-0.154152</td>\n",
       "    </tr>\n",
       "    <tr>\n",
       "      <th>3</th>\n",
       "      <td>0.235194</td>\n",
       "      <td>-0.675226</td>\n",
       "      <td>-1.369026</td>\n",
       "      <td>0.511351</td>\n",
       "      <td>2.327341</td>\n",
       "      <td>-1.069881</td>\n",
       "      <td>-1.421471</td>\n",
       "      <td>-1.549389</td>\n",
       "      <td>-0.616832</td>\n",
       "      <td>-0.628889</td>\n",
       "      <td>1.621964</td>\n",
       "      <td>-1.096953</td>\n",
       "    </tr>\n",
       "    <tr>\n",
       "      <th>4</th>\n",
       "      <td>1.650910</td>\n",
       "      <td>0.714366</td>\n",
       "      <td>-0.171514</td>\n",
       "      <td>-0.439536</td>\n",
       "      <td>0.049046</td>\n",
       "      <td>0.302617</td>\n",
       "      <td>-1.580797</td>\n",
       "      <td>1.198524</td>\n",
       "      <td>-1.679060</td>\n",
       "      <td>1.173766</td>\n",
       "      <td>-0.283860</td>\n",
       "      <td>-1.653398</td>\n",
       "    </tr>\n",
       "    <tr>\n",
       "      <th>...</th>\n",
       "      <td>...</td>\n",
       "      <td>...</td>\n",
       "      <td>...</td>\n",
       "      <td>...</td>\n",
       "      <td>...</td>\n",
       "      <td>...</td>\n",
       "      <td>...</td>\n",
       "      <td>...</td>\n",
       "      <td>...</td>\n",
       "      <td>...</td>\n",
       "      <td>...</td>\n",
       "      <td>...</td>\n",
       "    </tr>\n",
       "    <tr>\n",
       "      <th>10219</th>\n",
       "      <td>-0.843039</td>\n",
       "      <td>-1.163574</td>\n",
       "      <td>0.236144</td>\n",
       "      <td>0.631029</td>\n",
       "      <td>-0.665045</td>\n",
       "      <td>0.704838</td>\n",
       "      <td>-0.272845</td>\n",
       "      <td>0.725090</td>\n",
       "      <td>0.519682</td>\n",
       "      <td>0.165833</td>\n",
       "      <td>-0.417902</td>\n",
       "      <td>-0.877092</td>\n",
       "    </tr>\n",
       "    <tr>\n",
       "      <th>10220</th>\n",
       "      <td>1.513361</td>\n",
       "      <td>-1.290541</td>\n",
       "      <td>-1.113898</td>\n",
       "      <td>-0.921778</td>\n",
       "      <td>2.222537</td>\n",
       "      <td>-1.348303</td>\n",
       "      <td>-1.096565</td>\n",
       "      <td>-1.414859</td>\n",
       "      <td>-0.518715</td>\n",
       "      <td>0.255641</td>\n",
       "      <td>-0.143650</td>\n",
       "      <td>-0.622346</td>\n",
       "    </tr>\n",
       "    <tr>\n",
       "      <th>10221</th>\n",
       "      <td>0.962468</td>\n",
       "      <td>0.164091</td>\n",
       "      <td>1.036814</td>\n",
       "      <td>-0.623459</td>\n",
       "      <td>-2.034770</td>\n",
       "      <td>0.757187</td>\n",
       "      <td>1.541526</td>\n",
       "      <td>1.232994</td>\n",
       "      <td>-0.643854</td>\n",
       "      <td>-0.004577</td>\n",
       "      <td>-1.309596</td>\n",
       "      <td>-1.102081</td>\n",
       "    </tr>\n",
       "    <tr>\n",
       "      <th>10222</th>\n",
       "      <td>-0.843024</td>\n",
       "      <td>-1.579104</td>\n",
       "      <td>0.652420</td>\n",
       "      <td>1.132711</td>\n",
       "      <td>1.499314</td>\n",
       "      <td>-0.984729</td>\n",
       "      <td>-1.502667</td>\n",
       "      <td>-0.113675</td>\n",
       "      <td>0.627820</td>\n",
       "      <td>1.029528</td>\n",
       "      <td>0.355938</td>\n",
       "      <td>-1.033230</td>\n",
       "    </tr>\n",
       "    <tr>\n",
       "      <th>10223</th>\n",
       "      <td>0.415958</td>\n",
       "      <td>-1.261051</td>\n",
       "      <td>1.449345</td>\n",
       "      <td>1.310358</td>\n",
       "      <td>0.748016</td>\n",
       "      <td>-0.388186</td>\n",
       "      <td>0.733443</td>\n",
       "      <td>-1.648167</td>\n",
       "      <td>-1.269308</td>\n",
       "      <td>0.872107</td>\n",
       "      <td>-0.777286</td>\n",
       "      <td>-1.584008</td>\n",
       "    </tr>\n",
       "  </tbody>\n",
       "</table>\n",
       "<p>10224 rows × 12 columns</p>\n",
       "</div>"
      ],
      "text/plain": [
       "           tau1      tau2      tau3      tau4        p1        p2        p3  \\\n",
       "0     -1.034671  1.785454 -1.597890 -1.321070 -1.046721  0.601014  1.266908   \n",
       "1     -0.364963 -0.275372  0.147722  0.133113 -2.166375  0.591321  1.738011   \n",
       "2      0.521069 -1.603631  1.391362 -1.176059 -0.391306  1.305606  0.745922   \n",
       "3      0.235194 -0.675226 -1.369026  0.511351  2.327341 -1.069881 -1.421471   \n",
       "4      1.650910  0.714366 -0.171514 -0.439536  0.049046  0.302617 -1.580797   \n",
       "...         ...       ...       ...       ...       ...       ...       ...   \n",
       "10219 -0.843039 -1.163574  0.236144  0.631029 -0.665045  0.704838 -0.272845   \n",
       "10220  1.513361 -1.290541 -1.113898 -0.921778  2.222537 -1.348303 -1.096565   \n",
       "10221  0.962468  0.164091  1.036814 -0.623459 -2.034770  0.757187  1.541526   \n",
       "10222 -0.843024 -1.579104  0.652420  1.132711  1.499314 -0.984729 -1.502667   \n",
       "10223  0.415958 -1.261051  1.449345  1.310358  0.748016 -0.388186  0.733443   \n",
       "\n",
       "             p4        g1        g2        g3        g4  \n",
       "0     -0.052803 -0.927384 -0.500063  1.063836 -0.035703  \n",
       "1      1.430440  0.835339  0.354778  1.272426 -0.099635  \n",
       "2     -1.373830 -0.788664 -1.582383  0.763575 -0.154152  \n",
       "3     -1.549389 -0.616832 -0.628889  1.621964 -1.096953  \n",
       "4      1.198524 -1.679060  1.173766 -0.283860 -1.653398  \n",
       "...         ...       ...       ...       ...       ...  \n",
       "10219  0.725090  0.519682  0.165833 -0.417902 -0.877092  \n",
       "10220 -1.414859 -0.518715  0.255641 -0.143650 -0.622346  \n",
       "10221  1.232994 -0.643854 -0.004577 -1.309596 -1.102081  \n",
       "10222 -0.113675  0.627820  1.029528  0.355938 -1.033230  \n",
       "10223 -1.648167 -1.269308  0.872107 -0.777286 -1.584008  \n",
       "\n",
       "[10224 rows x 12 columns]"
      ]
     },
     "execution_count": 129,
     "metadata": {},
     "output_type": "execute_result"
    }
   ],
   "source": [
    "normalised_train_df"
   ]
  },
  {
   "cell_type": "code",
   "execution_count": 130,
   "metadata": {},
   "outputs": [],
   "source": [
    "#Random Forest Model\n",
    "from sklearn.ensemble import RandomForestClassifier"
   ]
  },
  {
   "cell_type": "code",
   "execution_count": 191,
   "metadata": {},
   "outputs": [],
   "source": [
    "\n",
    "clf=RandomForestClassifier(n_estimators=100)\n",
    "\n",
    "#Train the model using the training sets \n",
    "clf.fit(normalised_train_df,y_train_balanced)\n",
    "\n",
    "y_pred=clf.predict(normalised_test_df)"
   ]
  },
  {
   "cell_type": "code",
   "execution_count": 190,
   "metadata": {},
   "outputs": [
    {
     "name": "stdout",
     "output_type": "stream",
     "text": [
      "Accuracy: 0.634\n"
     ]
    }
   ],
   "source": [
    "from sklearn import metrics\n",
    "# Model Accuracy\n",
    "print(\"Accuracy:\",metrics.accuracy_score(y_test, y_pred))"
   ]
  },
  {
   "cell_type": "code",
   "execution_count": 189,
   "metadata": {},
   "outputs": [
    {
     "name": "stdout",
     "output_type": "stream",
     "text": [
      "RandomForestClassifier(random_state=1)\n"
     ]
    }
   ],
   "source": [
    "\n",
    "clf=RandomForestClassifier(n_estimators=100, random_state = 1)\n",
    "\n",
    "#Train the model using the training sets \n",
    "clf.fit(normalised_train_df,y_train_balanced)\n",
    "print(clf)"
   ]
  },
  {
   "cell_type": "code",
   "execution_count": 142,
   "metadata": {},
   "outputs": [
    {
     "name": "stdout",
     "output_type": "stream",
     "text": [
      "ExtraTreesClassifier(random_state=1)\n"
     ]
    }
   ],
   "source": [
    "from sklearn.ensemble import ExtraTreesClassifier\n",
    "etf= ExtraTreesClassifier(n_estimators=100, random_state = 1)\n",
    "\n",
    "#Train the model using the training sets \n",
    "etf.fit(normalised_train_df,y_train_balanced)\n",
    "print(etf)"
   ]
  },
  {
   "cell_type": "code",
   "execution_count": 147,
   "metadata": {},
   "outputs": [
    {
     "name": "stdout",
     "output_type": "stream",
     "text": [
      "Collecting package metadata (current_repodata.json): ...working... done\n",
      "Solving environment: ...working... done\n",
      "\n",
      "## Package Plan ##\n",
      "\n",
      "  environment location: C:\\Users\\hp\\anaconda3\n",
      "\n",
      "  added / updated specs:\n",
      "    - py-xgboost\n",
      "\n",
      "\n",
      "The following packages will be downloaded:\n",
      "\n",
      "    package                    |            build\n",
      "    ---------------------------|-----------------\n",
      "    _py-xgboost-mutex-2.0      |            cpu_0          12 KB  anaconda\n",
      "    conda-4.11.0               |   py37haa95532_0        14.4 MB\n",
      "    libxgboost-0.90            |                1         3.9 MB  anaconda\n",
      "    py-xgboost-0.90            |           py37_1          80 KB  anaconda\n",
      "    ------------------------------------------------------------\n",
      "                                           Total:        18.4 MB\n",
      "\n",
      "The following NEW packages will be INSTALLED:\n",
      "\n",
      "  _py-xgboost-mutex  anaconda/win-64::_py-xgboost-mutex-2.0-cpu_0\n",
      "  libxgboost         anaconda/win-64::libxgboost-0.90-1\n",
      "  py-xgboost         anaconda/win-64::py-xgboost-0.90-py37_1\n",
      "\n",
      "The following packages will be SUPERSEDED by a higher-priority channel:\n",
      "\n",
      "  conda              conda-forge::conda-4.11.0-py37h03978a~ --> pkgs/main::conda-4.11.0-py37haa95532_0\n",
      "\n",
      "\n",
      "\n",
      "Downloading and Extracting Packages\n",
      "\n",
      "py-xgboost-0.90      | 80 KB     |            |   0% \n",
      "py-xgboost-0.90      | 80 KB     | #9         |  20% \n",
      "py-xgboost-0.90      | 80 KB     | ########## | 100% \n",
      "py-xgboost-0.90      | 80 KB     | ########## | 100% \n",
      "\n",
      "conda-4.11.0         | 14.4 MB   |            |   0% \n",
      "conda-4.11.0         | 14.4 MB   |            |   0% \n",
      "conda-4.11.0         | 14.4 MB   |            |   1% \n",
      "conda-4.11.0         | 14.4 MB   | 1          |   2% \n",
      "conda-4.11.0         | 14.4 MB   | 2          |   3% \n",
      "conda-4.11.0         | 14.4 MB   | 3          |   3% \n",
      "conda-4.11.0         | 14.4 MB   | 4          |   4% \n",
      "conda-4.11.0         | 14.4 MB   | 5          |   5% \n",
      "conda-4.11.0         | 14.4 MB   | 6          |   6% \n",
      "conda-4.11.0         | 14.4 MB   | 7          |   7% \n",
      "conda-4.11.0         | 14.4 MB   | 7          |   8% \n",
      "conda-4.11.0         | 14.4 MB   | 8          |   9% \n",
      "conda-4.11.0         | 14.4 MB   | 9          |  10% \n",
      "conda-4.11.0         | 14.4 MB   | #          |  11% \n",
      "conda-4.11.0         | 14.4 MB   | #1         |  11% \n",
      "conda-4.11.0         | 14.4 MB   | #2         |  12% \n",
      "conda-4.11.0         | 14.4 MB   | #3         |  13% \n",
      "conda-4.11.0         | 14.4 MB   | #4         |  14% \n",
      "conda-4.11.0         | 14.4 MB   | #5         |  15% \n",
      "conda-4.11.0         | 14.4 MB   | #5         |  16% \n",
      "conda-4.11.0         | 14.4 MB   | #6         |  17% \n",
      "conda-4.11.0         | 14.4 MB   | #7         |  18% \n",
      "conda-4.11.0         | 14.4 MB   | #8         |  19% \n",
      "conda-4.11.0         | 14.4 MB   | #9         |  19% \n",
      "conda-4.11.0         | 14.4 MB   | ##         |  20% \n",
      "conda-4.11.0         | 14.4 MB   | ##1        |  21% \n",
      "conda-4.11.0         | 14.4 MB   | ##2        |  22% \n",
      "conda-4.11.0         | 14.4 MB   | ##2        |  23% \n",
      "conda-4.11.0         | 14.4 MB   | ##3        |  24% \n",
      "conda-4.11.0         | 14.4 MB   | ##4        |  25% \n",
      "conda-4.11.0         | 14.4 MB   | ##5        |  26% \n",
      "conda-4.11.0         | 14.4 MB   | ##6        |  26% \n",
      "conda-4.11.0         | 14.4 MB   | ##7        |  27% \n",
      "conda-4.11.0         | 14.4 MB   | ##8        |  28% \n",
      "conda-4.11.0         | 14.4 MB   | ##9        |  29% \n",
      "conda-4.11.0         | 14.4 MB   | ###        |  30% \n",
      "conda-4.11.0         | 14.4 MB   | ###        |  31% \n",
      "conda-4.11.0         | 14.4 MB   | ###1       |  32% \n",
      "conda-4.11.0         | 14.4 MB   | ###3       |  33% \n",
      "conda-4.11.0         | 14.4 MB   | ###4       |  34% \n",
      "conda-4.11.0         | 14.4 MB   | ###5       |  35% \n",
      "conda-4.11.0         | 14.4 MB   | ###6       |  36% \n",
      "conda-4.11.0         | 14.4 MB   | ###7       |  37% \n",
      "conda-4.11.0         | 14.4 MB   | ###8       |  38% \n",
      "conda-4.11.0         | 14.4 MB   | ###9       |  39% \n",
      "conda-4.11.0         | 14.4 MB   | ####       |  40% \n",
      "conda-4.11.0         | 14.4 MB   | ####       |  41% \n",
      "conda-4.11.0         | 14.4 MB   | ####1      |  42% \n",
      "conda-4.11.0         | 14.4 MB   | ####2      |  43% \n",
      "conda-4.11.0         | 14.4 MB   | ####3      |  44% \n",
      "conda-4.11.0         | 14.4 MB   | ####4      |  44% \n",
      "conda-4.11.0         | 14.4 MB   | ####5      |  46% \n",
      "conda-4.11.0         | 14.4 MB   | ####6      |  47% \n",
      "conda-4.11.0         | 14.4 MB   | ####7      |  48% \n",
      "conda-4.11.0         | 14.4 MB   | ####8      |  48% \n",
      "conda-4.11.0         | 14.4 MB   | ####9      |  50% \n",
      "conda-4.11.0         | 14.4 MB   | #####      |  51% \n",
      "conda-4.11.0         | 14.4 MB   | #####1     |  52% \n",
      "conda-4.11.0         | 14.4 MB   | #####2     |  53% \n",
      "conda-4.11.0         | 14.4 MB   | #####3     |  54% \n",
      "conda-4.11.0         | 14.4 MB   | #####4     |  55% \n",
      "conda-4.11.0         | 14.4 MB   | #####5     |  55% \n",
      "conda-4.11.0         | 14.4 MB   | #####6     |  56% \n",
      "conda-4.11.0         | 14.4 MB   | #####7     |  57% \n",
      "conda-4.11.0         | 14.4 MB   | #####8     |  58% \n",
      "conda-4.11.0         | 14.4 MB   | #####9     |  59% \n",
      "conda-4.11.0         | 14.4 MB   | #####9     |  60% \n",
      "conda-4.11.0         | 14.4 MB   | ######     |  61% \n",
      "conda-4.11.0         | 14.4 MB   | ######1    |  62% \n",
      "conda-4.11.0         | 14.4 MB   | ######2    |  62% \n",
      "conda-4.11.0         | 14.4 MB   | ######3    |  63% \n",
      "conda-4.11.0         | 14.4 MB   | ######4    |  64% \n",
      "conda-4.11.0         | 14.4 MB   | ######5    |  65% \n",
      "conda-4.11.0         | 14.4 MB   | ######5    |  66% \n",
      "conda-4.11.0         | 14.4 MB   | ######6    |  67% \n",
      "conda-4.11.0         | 14.4 MB   | ######7    |  68% \n",
      "conda-4.11.0         | 14.4 MB   | ######8    |  69% \n",
      "conda-4.11.0         | 14.4 MB   | ######9    |  70% \n",
      "conda-4.11.0         | 14.4 MB   | #######    |  70% \n",
      "conda-4.11.0         | 14.4 MB   | #######1   |  71% \n",
      "conda-4.11.0         | 14.4 MB   | #######2   |  72% \n",
      "conda-4.11.0         | 14.4 MB   | #######2   |  73% \n",
      "conda-4.11.0         | 14.4 MB   | #######3   |  74% \n",
      "conda-4.11.0         | 14.4 MB   | #######4   |  75% \n",
      "conda-4.11.0         | 14.4 MB   | #######5   |  75% \n",
      "conda-4.11.0         | 14.4 MB   | #######6   |  76% \n",
      "conda-4.11.0         | 14.4 MB   | #######7   |  77% \n",
      "conda-4.11.0         | 14.4 MB   | #######8   |  78% \n",
      "conda-4.11.0         | 14.4 MB   | #######9   |  79% \n",
      "conda-4.11.0         | 14.4 MB   | #######9   |  80% \n",
      "conda-4.11.0         | 14.4 MB   | ########   |  81% \n",
      "conda-4.11.0         | 14.4 MB   | ########1  |  82% \n",
      "conda-4.11.0         | 14.4 MB   | ########2  |  83% \n",
      "conda-4.11.0         | 14.4 MB   | ########3  |  83% \n",
      "conda-4.11.0         | 14.4 MB   | ########4  |  85% \n",
      "conda-4.11.0         | 14.4 MB   | ########5  |  86% \n",
      "conda-4.11.0         | 14.4 MB   | ########6  |  86% \n",
      "conda-4.11.0         | 14.4 MB   | ########7  |  87% \n",
      "conda-4.11.0         | 14.4 MB   | ########8  |  88% \n",
      "conda-4.11.0         | 14.4 MB   | ########9  |  89% \n",
      "conda-4.11.0         | 14.4 MB   | #########  |  90% \n",
      "conda-4.11.0         | 14.4 MB   | #########  |  91% \n",
      "conda-4.11.0         | 14.4 MB   | #########1 |  92% \n",
      "conda-4.11.0         | 14.4 MB   | #########2 |  93% \n",
      "conda-4.11.0         | 14.4 MB   | #########3 |  94% \n",
      "conda-4.11.0         | 14.4 MB   | #########4 |  94% \n",
      "conda-4.11.0         | 14.4 MB   | #########5 |  95% \n",
      "conda-4.11.0         | 14.4 MB   | #########6 |  96% \n",
      "conda-4.11.0         | 14.4 MB   | #########7 |  97% \n",
      "conda-4.11.0         | 14.4 MB   | #########7 |  98% \n",
      "conda-4.11.0         | 14.4 MB   | #########8 |  99% \n",
      "conda-4.11.0         | 14.4 MB   | #########9 | 100% \n",
      "conda-4.11.0         | 14.4 MB   | ########## | 100% \n",
      "\n",
      "_py-xgboost-mutex-2. | 12 KB     |            |   0% \n",
      "_py-xgboost-mutex-2. | 12 KB     | ########## | 100% \n",
      "_py-xgboost-mutex-2. | 12 KB     | ########## | 100% \n",
      "\n",
      "libxgboost-0.90      | 3.9 MB    |            |   0% \n",
      "libxgboost-0.90      | 3.9 MB    |            |   0% \n",
      "libxgboost-0.90      | 3.9 MB    | 3          |   3% \n",
      "libxgboost-0.90      | 3.9 MB    | 6          |   6% \n",
      "libxgboost-0.90      | 3.9 MB    | 9          |  10% \n",
      "libxgboost-0.90      | 3.9 MB    | #2         |  13% \n",
      "libxgboost-0.90      | 3.9 MB    | #5         |  16% \n",
      "libxgboost-0.90      | 3.9 MB    | #8         |  19% \n",
      "libxgboost-0.90      | 3.9 MB    | ##2        |  23% \n",
      "libxgboost-0.90      | 3.9 MB    | ##9        |  30% \n",
      "libxgboost-0.90      | 3.9 MB    | ###3       |  34% \n",
      "libxgboost-0.90      | 3.9 MB    | ###7       |  38% \n",
      "libxgboost-0.90      | 3.9 MB    | ####1      |  41% \n",
      "libxgboost-0.90      | 3.9 MB    | ####5      |  45% \n",
      "libxgboost-0.90      | 3.9 MB    | ####9      |  49% \n",
      "libxgboost-0.90      | 3.9 MB    | #####3     |  53% \n",
      "libxgboost-0.90      | 3.9 MB    | #####6     |  57% \n",
      "libxgboost-0.90      | 3.9 MB    | ######     |  60% \n",
      "libxgboost-0.90      | 3.9 MB    | ######3    |  64% \n",
      "libxgboost-0.90      | 3.9 MB    | ######7    |  67% \n",
      "libxgboost-0.90      | 3.9 MB    | #######    |  71% \n",
      "libxgboost-0.90      | 3.9 MB    | #######4   |  74% \n",
      "libxgboost-0.90      | 3.9 MB    | #######7   |  77% \n",
      "libxgboost-0.90      | 3.9 MB    | ########   |  81% \n",
      "libxgboost-0.90      | 3.9 MB    | ########3  |  84% \n",
      "libxgboost-0.90      | 3.9 MB    | ########8  |  88% \n",
      "libxgboost-0.90      | 3.9 MB    | #########2 |  92% \n",
      "libxgboost-0.90      | 3.9 MB    | #########5 |  96% \n",
      "libxgboost-0.90      | 3.9 MB    | ########## | 100% \n",
      "libxgboost-0.90      | 3.9 MB    | ########## | 100% \n",
      "Preparing transaction: ...working... done\n",
      "Verifying transaction: ...working... done\n",
      "Executing transaction: ...working... done\n",
      "\n",
      "Note: you may need to restart the kernel to use updated packages.\n"
     ]
    }
   ],
   "source": [
    "conda install -c anaconda py-xgboost"
   ]
  },
  {
   "cell_type": "code",
   "execution_count": 161,
   "metadata": {},
   "outputs": [],
   "source": [
    "from xgboost import XGBClassifier\n",
    "from sklearn.metrics import classification_report "
   ]
  },
  {
   "cell_type": "code",
   "execution_count": 185,
   "metadata": {},
   "outputs": [
    {
     "data": {
      "text/plain": [
       "0.634"
      ]
     },
     "execution_count": 185,
     "metadata": {},
     "output_type": "execute_result"
    }
   ],
   "source": [
    "from sklearn.metrics import accuracy_score\n",
    "from sklearn.ensemble import GradientBoostingClassifier\n",
    "clf1 = GradientBoostingClassifier(n_estimators=100, random_state = 1)\n",
    "clf1.fit(normalised_train_df, y_train_balanced)\n",
    "y_pred = clf1.predict(x_test)\n",
    "accuracy_score(y_test, y_pred)"
   ]
  },
  {
   "cell_type": "code",
   "execution_count": 186,
   "metadata": {},
   "outputs": [
    {
     "data": {
      "text/plain": [
       "0.634"
      ]
     },
     "execution_count": 186,
     "metadata": {},
     "output_type": "execute_result"
    }
   ],
   "source": [
    "from xgboost import XGBClassifier\n",
    "clf2 = XGBClassifier(n_estimators=100, random_state = 1)\n",
    "clf2.fit(normalised_train_df, y_train_balanced)\n",
    "y_pred = clf2.predict(x_test)\n",
    "accuracy_score(y_test, y_pred)"
   ]
  },
  {
   "cell_type": "code",
   "execution_count": 187,
   "metadata": {},
   "outputs": [
    {
     "data": {
      "text/plain": [
       "0.634"
      ]
     },
     "execution_count": 187,
     "metadata": {},
     "output_type": "execute_result"
    }
   ],
   "source": [
    "clf3 = RandomForestClassifier(n_estimators=100, max_features=\"auto\",random_state=1)\n",
    "clf3.fit(normalised_train_df, y_train_balanced)\n",
    "y_pred = clf3.predict(x_test)\n",
    "accuracy_score(y_test, y_pred)"
   ]
  },
  {
   "cell_type": "code",
   "execution_count": 188,
   "metadata": {},
   "outputs": [
    {
     "data": {
      "text/plain": [
       "0.634"
      ]
     },
     "execution_count": 188,
     "metadata": {},
     "output_type": "execute_result"
    }
   ],
   "source": [
    "from sklearn.ensemble import ExtraTreesClassifier\n",
    "etf= ExtraTreesClassifier(n_estimators=100, random_state = 1)\n",
    "etf.fit(normalised_train_df,y_train_balanced)\n",
    "y_pred = etf.predict(x_test)\n",
    "accuracy_score(y_test, y_pred)"
   ]
  },
  {
   "cell_type": "code",
   "execution_count": null,
   "metadata": {},
   "outputs": [],
   "source": []
  }
 ],
 "metadata": {
  "kernelspec": {
   "display_name": "Python 3",
   "language": "python",
   "name": "python3"
  },
  "language_info": {
   "codemirror_mode": {
    "name": "ipython",
    "version": 3
   },
   "file_extension": ".py",
   "mimetype": "text/x-python",
   "name": "python",
   "nbconvert_exporter": "python",
   "pygments_lexer": "ipython3",
   "version": "3.7.6"
  }
 },
 "nbformat": 4,
 "nbformat_minor": 4
}
